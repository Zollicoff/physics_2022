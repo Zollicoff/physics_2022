{
  "nbformat": 4,
  "nbformat_minor": 0,
  "metadata": {
    "colab": {
      "provenance": [],
      "collapsed_sections": [],
      "authorship_tag": "ABX9TyNThScVUSB8yOtNOueyAEfA",
      "include_colab_link": true
    },
    "kernelspec": {
      "name": "python3",
      "display_name": "Python 3"
    },
    "language_info": {
      "name": "python"
    }
  },
  "cells": [
    {
      "cell_type": "markdown",
      "metadata": {
        "id": "view-in-github",
        "colab_type": "text"
      },
      "source": [
        "<a href=\"https://colab.research.google.com/github/Zollicoff/physics_fall_2022/blob/main/Engineering_Physics_I_Experiment_1_Addition_of_Vectors_Experiment.ipynb\" target=\"_parent\"><img src=\"https://colab.research.google.com/assets/colab-badge.svg\" alt=\"Open In Colab\"/></a>"
      ]
    },
    {
      "cell_type": "markdown",
      "source": [
        "# **Engineering Physics I**\n",
        "# **Experiment 1 - Addition of Vectors**"
      ],
      "metadata": {
        "id": "SAm0wx-rUa4_"
      }
    },
    {
      "cell_type": "markdown",
      "source": [
        "Report written by Zachary A. Hampton\n",
        "\n",
        "List of group members: Adolpho Magallanes, Brandon Swift, Ivan Cuevas, Oscar Lara Garcia\n",
        "\n",
        "Experiment performed on 09/07/2022\n",
        "\n",
        "No Current Due Date"
      ],
      "metadata": {
        "id": "S0Yb5v_x6Cu8"
      }
    },
    {
      "cell_type": "markdown",
      "source": [
        "# Setup"
      ],
      "metadata": {
        "id": "zYCowBrEB-QX"
      }
    },
    {
      "cell_type": "markdown",
      "source": [
        "First let us import Numpy for mathematical calculations and set options to suppress scientific notation.\n",
        "\n",
        "And let us define Earth's Gravity of 9.8 m/s as G."
      ],
      "metadata": {
        "id": "-kQKuS0J0E10"
      }
    },
    {
      "cell_type": "code",
      "execution_count": 1,
      "metadata": {
        "id": "BC5zZl25UYZy"
      },
      "outputs": [],
      "source": [
        "import numpy as np\n",
        "np.set_printoptions(suppress=True)\n",
        "\n",
        "G = 9.8"
      ]
    },
    {
      "cell_type": "markdown",
      "source": [
        "# Part 1 - Two Applied Forces"
      ],
      "metadata": {
        "id": "AxhOcKpXvwf6"
      }
    },
    {
      "cell_type": "markdown",
      "source": [
        "Let us define the two given vectors as Vector Array 1 and Vector Array 2\n",
        "\n",
        "Let us also define our Measurements of the Counter-Weight as Vector Array FE1:\n",
        "\n",
        "(Where[0] = Mass in kg, [1] = Angle in degrees)"
      ],
      "metadata": {
        "id": "spGKFMyFUdWH"
      }
    },
    {
      "cell_type": "code",
      "source": [
        "va1 = np.array([0.10, 20])\n",
        "va2 = np.array([0.20, 90])\n",
        "vafe1 = np.array([.25, 249])\n",
        "print('Vector Array 1  : Mass = ', va1[0], 'kg, Angle = ', va1[1], 'degrees')\n",
        "print('Vector Array 2  : Mass = ', va2[0], 'kg, Angle = ', va2[1], 'degrees')\n",
        "print('Vector Array FE1: Mass = ', vafe1[0], 'kg, Angle = ', vafe1[1], 'degrees')"
      ],
      "metadata": {
        "colab": {
          "base_uri": "https://localhost:8080/"
        },
        "id": "hvIeeq8kUeYs",
        "outputId": "a6014086-f922-4a4e-a257-de07a40cb96b"
      },
      "execution_count": 2,
      "outputs": [
        {
          "output_type": "stream",
          "name": "stdout",
          "text": [
            "Vector Array 1  : Mass =  0.1 kg, Angle =  20.0 degrees\n",
            "Vector Array 2  : Mass =  0.2 kg, Angle =  90.0 degrees\n",
            "Vector Array FE1: Mass =  0.25 kg, Angle =  249.0 degrees\n"
          ]
        }
      ]
    },
    {
      "cell_type": "markdown",
      "source": [
        "Let us define FR1 as the opposite angle of FE1 by subtracting 180 from FE1:"
      ],
      "metadata": {
        "id": "nLo7O0K70yJ9"
      }
    },
    {
      "cell_type": "code",
      "source": [
        "fr1 = vafe1[1] - 180\n",
        "print('The result is ' + str(fr1) + ' degrees.')"
      ],
      "metadata": {
        "colab": {
          "base_uri": "https://localhost:8080/"
        },
        "id": "STYdbwKJ04e-",
        "outputId": "8cf5e1d6-56a8-4bb6-a489-af4b3057bd07"
      },
      "execution_count": 3,
      "outputs": [
        {
          "output_type": "stream",
          "name": "stdout",
          "text": [
            "The result is 69.0 degrees.\n"
          ]
        }
      ]
    },
    {
      "cell_type": "markdown",
      "source": [
        "Calculate force of Vector Array 1 as f1 and Vector Array 2 as f2, as well as Vector Array FE1 / FR1 *in* Newtons by multiplying the vector's Mass and Earth's Gravity:"
      ],
      "metadata": {
        "id": "Q3Wq5v3HUgg2"
      }
    },
    {
      "cell_type": "code",
      "source": [
        "f1 = va1[0] * G\n",
        "f2 = va2[0] * G\n",
        "fe1 = vafe1[0] * G\n",
        "print('Force of Vector Array 1 =', f1, 'Newtons')\n",
        "print('Force of Vector Array 2 =', f2, 'Newtons')\n",
        "print('Force of Vector Array FE1 / FR1 =', fe1, 'Newtons')"
      ],
      "metadata": {
        "colab": {
          "base_uri": "https://localhost:8080/"
        },
        "id": "T7oZHJ6PUomv",
        "outputId": "c647fd09-1b06-4c36-ac78-2b1df30587f4"
      },
      "execution_count": 4,
      "outputs": [
        {
          "output_type": "stream",
          "name": "stdout",
          "text": [
            "Force of Vector Array 1 = 0.9800000000000001 Newtons\n",
            "Force of Vector Array 2 = 1.9600000000000002 Newtons\n",
            "Force of Vector Array FE1 / FR1 = 2.45 Newtons\n"
          ]
        }
      ]
    },
    {
      "cell_type": "markdown",
      "source": [
        "Calculate FX1 / FX2 using Cosine and FY1 / FY2 using Sine:"
      ],
      "metadata": {
        "id": "bxGr_i5BUp2O"
      }
    },
    {
      "cell_type": "code",
      "source": [
        "fx1 = f1 * np.cos(np.radians(va1[1]))\n",
        "fy1 = f1 * np.sin(np.radians(va1[1]))\n",
        "fx2 = f2 * np.allclose(0, np.cos((va2[1])), 1e-5, 1e-8)\n",
        "fy2 = f2 * np.sin(np.radians(va2[1]))\n",
        "print('FX1 =', fx1)\n",
        "print('FY1 =', fy1)\n",
        "print('FX2 =', fx2)\n",
        "print('FY2 =', fy2)"
      ],
      "metadata": {
        "colab": {
          "base_uri": "https://localhost:8080/"
        },
        "id": "-VfGmcOoUrC1",
        "outputId": "96089856-ec02-454c-804e-678940591d7c"
      },
      "execution_count": 5,
      "outputs": [
        {
          "output_type": "stream",
          "name": "stdout",
          "text": [
            "FX1 = 0.9208987683701904\n",
            "FY1 = 0.3351797404591554\n",
            "FX2 = 0.0\n",
            "FY2 = 1.9600000000000002\n"
          ]
        }
      ]
    },
    {
      "cell_type": "markdown",
      "source": [
        "Define A by adding FX1 and FX2, and B by adding FY1 and FY2 to use in Pythagorean Theorem:"
      ],
      "metadata": {
        "id": "uyKKbKxUcgPJ"
      }
    },
    {
      "cell_type": "code",
      "source": [
        "a1 = fx1 + fx2\n",
        "b1 = fy1 + fy2\n",
        "print('A =', a1)\n",
        "print('B =', b1)"
      ],
      "metadata": {
        "colab": {
          "base_uri": "https://localhost:8080/"
        },
        "id": "dt57J88BfoBG",
        "outputId": "a45c5fbe-a370-4ad4-da81-66bb66e5bee8"
      },
      "execution_count": 6,
      "outputs": [
        {
          "output_type": "stream",
          "name": "stdout",
          "text": [
            "A = 0.9208987683701904\n",
            "B = 2.2951797404591554\n"
          ]
        }
      ]
    },
    {
      "cell_type": "markdown",
      "source": [
        "Use Pythagorean Theorem $a^2 + b^2 = c^2$ to find $c$ :\n"
      ],
      "metadata": {
        "id": "bXT9C0Odx4H7"
      }
    },
    {
      "cell_type": "code",
      "source": [
        "c1 = np.hypot(a1, b1)\n",
        "print('C^2 = ' + str(a1) + '^2 ' + str(b1) + '^2')\n",
        "print('C = ', c1)"
      ],
      "metadata": {
        "colab": {
          "base_uri": "https://localhost:8080/"
        },
        "id": "-hFBQlvLyHuk",
        "outputId": "e71457b9-ef9f-4d95-fe8b-2c685d8b98b9"
      },
      "execution_count": 7,
      "outputs": [
        {
          "output_type": "stream",
          "name": "stdout",
          "text": [
            "C^2 = 0.9208987683701904^2 2.2951797404591554^2\n",
            "C =  2.473035499664307\n"
          ]
        }
      ]
    },
    {
      "cell_type": "markdown",
      "source": [
        "Find the Error Rate Percentage using $100(FE1-c)/c = E$% :"
      ],
      "metadata": {
        "id": "7LFdv0U23VUs"
      }
    },
    {
      "cell_type": "code",
      "source": [
        "e1 = (fe1 - c1) / c1\n",
        "ep1 = e1 * 100\n",
        "print(e1)\n",
        "print('The Error Rate is', ep1, '%')\n"
      ],
      "metadata": {
        "colab": {
          "base_uri": "https://localhost:8080/"
        },
        "id": "otg1c0zY3tLF",
        "outputId": "b3dceb0c-4a1a-49a2-8ccd-c823468c97d7"
      },
      "execution_count": 8,
      "outputs": [
        {
          "output_type": "stream",
          "name": "stdout",
          "text": [
            "-0.009314665991423828\n",
            "The Error Rate is -0.9314665991423828 %\n"
          ]
        }
      ]
    },
    {
      "cell_type": "markdown",
      "source": [
        "# Part 2 - Three Applied Forces"
      ],
      "metadata": {
        "id": "-yGgFw_17PZ8"
      }
    },
    {
      "cell_type": "markdown",
      "source": [
        "Let us define the Three given vectors as Vector Array 3, Vector Array 4, and Vector Array 5.\n",
        "\n",
        "Let us also define our Measurements of the Counter-Weight as Vector Array FE2:\n",
        "\n",
        "(Where [0] = Mass in kg, [1] = Gravity in $m/s$, [2] = Angle in degrees)"
      ],
      "metadata": {
        "id": "VPo_H1lJ98sG"
      }
    },
    {
      "cell_type": "code",
      "source": [
        "va3 = np.array([0.15, 30])\n",
        "va4 = np.array([0.20, 100])\n",
        "va5 = np.array([0.10, 145])\n",
        "vafe2 = np.array([0.32, 268])\n",
        "print('Vector Array 3  : Mass = ', va3[0], 'kg, Angle = ', va3[1], 'degrees')\n",
        "print('Vector Array 4  : Mass = ', va4[0], 'kg, Angle = ', va4[1], 'degrees')\n",
        "print('Vector Array 5  : Mass = ', va5[0], 'kg, Angle = ', va5[1], 'degrees')\n",
        "print('Vector Array FE2: Mass = ', vafe2[0], 'kg, Angle = ', vafe2[1], 'degrees')"
      ],
      "metadata": {
        "colab": {
          "base_uri": "https://localhost:8080/"
        },
        "id": "jss09fbT8NhJ",
        "outputId": "223eba87-266e-4104-a811-372f321ef008"
      },
      "execution_count": 9,
      "outputs": [
        {
          "output_type": "stream",
          "name": "stdout",
          "text": [
            "Vector Array 3  : Mass =  0.15 kg, Angle =  30.0 degrees\n",
            "Vector Array 4  : Mass =  0.2 kg, Angle =  100.0 degrees\n",
            "Vector Array 5  : Mass =  0.1 kg, Angle =  145.0 degrees\n",
            "Vector Array FE2: Mass =  0.32 kg, Angle =  268.0 degrees\n"
          ]
        }
      ]
    },
    {
      "cell_type": "markdown",
      "source": [
        "Let us define FR2 as the opposite angle of FE2 by subtracting 180 from FE2:"
      ],
      "metadata": {
        "id": "KZMLh5gLoYnu"
      }
    },
    {
      "cell_type": "code",
      "source": [
        "fr2 = vafe2[1] - 180\n",
        "print('The result is ' + str(fr2) + ' degrees.')"
      ],
      "metadata": {
        "colab": {
          "base_uri": "https://localhost:8080/"
        },
        "id": "PrCwAqcZodc6",
        "outputId": "47c1b88b-a0e5-47f9-caed-25706da97735"
      },
      "execution_count": 10,
      "outputs": [
        {
          "output_type": "stream",
          "name": "stdout",
          "text": [
            "The result is 88.0 degrees.\n"
          ]
        }
      ]
    },
    {
      "cell_type": "markdown",
      "source": [
        "Calculate force of Vector Array 3 as f3, Vector Array 4 as f4, Vector Array 5 as f5, as well as Vector Array FE2 / FR2 in Newtons by multiplying the vector's Mass and Earth's Gravity:"
      ],
      "metadata": {
        "id": "7ma4W5oipDSZ"
      }
    },
    {
      "cell_type": "code",
      "source": [
        "f3 = va3[0] * G\n",
        "f4 = va4[0] * G\n",
        "f5 = va5[0] * G\n",
        "fe2 = vafe2[0] * G\n",
        "print('Force of Vector Array 3 =', f3, 'Newtons')\n",
        "print('Force of Vector Array 4 =', f4, 'Newtons')\n",
        "print('Force of Vector Array 5 =', f5, 'Newtons')\n",
        "print('Force of Vector Array FE2 / FR2 =', fe2, 'Newtons')"
      ],
      "metadata": {
        "colab": {
          "base_uri": "https://localhost:8080/"
        },
        "id": "oIQQeiZgpgtc",
        "outputId": "9196b3f3-92ab-4086-a208-ee6db631d391"
      },
      "execution_count": 11,
      "outputs": [
        {
          "output_type": "stream",
          "name": "stdout",
          "text": [
            "Force of Vector Array 3 = 1.47 Newtons\n",
            "Force of Vector Array 4 = 1.9600000000000002 Newtons\n",
            "Force of Vector Array 5 = 0.9800000000000001 Newtons\n",
            "Force of Vector Array FE2 / FR2 = 3.136 Newtons\n"
          ]
        }
      ]
    },
    {
      "cell_type": "markdown",
      "source": [
        "Calculate FX3 / FX4 / FX5 using Cosine and FY3 / FY4 / FY5 using Sine:"
      ],
      "metadata": {
        "id": "mOuuQeO2rje2"
      }
    },
    {
      "cell_type": "code",
      "source": [
        "fx3 = f3 * np.cos(np.radians(va3[1]))\n",
        "fy3 = f3 * np.sin(np.radians(va3[1]))\n",
        "fx4 = f4 * np.cos(np.radians(va4[1]))\n",
        "fy4 = f4 * np.sin(np.radians(va4[1]))\n",
        "fx5 = f5 * np.cos(np.radians(va5[1]))\n",
        "fy5 = f5 * np.sin(np.radians(va5[1]))\n",
        "print('FX3 =', fx3)\n",
        "print('FY3 =', fy3)\n",
        "print('FX4 =', fx4)\n",
        "print('FY4 =', fy4)\n",
        "print('FX5 =', fx5)\n",
        "print('FY5 =', fy5)"
      ],
      "metadata": {
        "colab": {
          "base_uri": "https://localhost:8080/"
        },
        "id": "YzF430RDrqhs",
        "outputId": "0857ed62-c58f-47c1-ad21-2112e2db08da"
      },
      "execution_count": 12,
      "outputs": [
        {
          "output_type": "stream",
          "name": "stdout",
          "text": [
            "FX3 = 1.273057343563125\n",
            "FY3 = 0.7349999999999999\n",
            "FX4 = -0.3403504282271834\n",
            "FY4 = 1.930223195903928\n",
            "FX5 = -0.8027690034032121\n",
            "FY5 = 0.5621049076240251\n"
          ]
        }
      ]
    },
    {
      "cell_type": "markdown",
      "source": [
        "Define A by adding FX3, FX4, and FX5, and B by adding FY3, FY4, and FY5 to use in Pythagorean Theorem:"
      ],
      "metadata": {
        "id": "wbIGtU80u7rs"
      }
    },
    {
      "cell_type": "code",
      "source": [
        "a2 = fx3 + fx4 + fx5 \n",
        "b2 = fy4 + fy4 + fy5\n",
        "print('A =', a2)\n",
        "print('B =', b2)"
      ],
      "metadata": {
        "colab": {
          "base_uri": "https://localhost:8080/"
        },
        "id": "t74t-38TvGpR",
        "outputId": "3d29edde-d68b-4558-c2e9-cdb1d5c64a87"
      },
      "execution_count": 13,
      "outputs": [
        {
          "output_type": "stream",
          "name": "stdout",
          "text": [
            "A = 0.1299379119327294\n",
            "B = 4.422551299431881\n"
          ]
        }
      ]
    },
    {
      "cell_type": "markdown",
      "source": [
        "Use Pythagorean Theorem $a^2 + b^2 = c^2$ to find $c$ :"
      ],
      "metadata": {
        "id": "fzYa0EZ4wDRA"
      }
    },
    {
      "cell_type": "code",
      "source": [
        "c2 = np.hypot(a2, b2)\n",
        "print('C^2 = ' + str(a2) + '^2 ' + str(b2) + '^2')\n",
        "print('C = ', c2)"
      ],
      "metadata": {
        "colab": {
          "base_uri": "https://localhost:8080/"
        },
        "id": "aHhJbra_wHaa",
        "outputId": "4f78b77a-9b50-468d-ddee-e06f4d8c5666"
      },
      "execution_count": 14,
      "outputs": [
        {
          "output_type": "stream",
          "name": "stdout",
          "text": [
            "C^2 = 0.1299379119327294^2 4.422551299431881^2\n",
            "C =  4.424459724877611\n"
          ]
        }
      ]
    },
    {
      "cell_type": "markdown",
      "source": [
        "Find the Error Rate Percentage using $100(FE1-c)/c = E$% :"
      ],
      "metadata": {
        "id": "R9X7eH7vw-8V"
      }
    },
    {
      "cell_type": "code",
      "source": [
        "e2 = (fe2 - c2) / c2\n",
        "ep2 = e2 * 100\n",
        "print(e2)\n",
        "print('The Error Rate is', ep2, '%')\n"
      ],
      "metadata": {
        "colab": {
          "base_uri": "https://localhost:8080/"
        },
        "id": "6URu9QDWxEMr",
        "outputId": "f34cf2f5-51e5-416c-d6e1-e7dbae875ca1"
      },
      "execution_count": 15,
      "outputs": [
        {
          "output_type": "stream",
          "name": "stdout",
          "text": [
            "-0.29121289490622543\n",
            "The Error Rate is -29.121289490622544 %\n"
          ]
        }
      ]
    },
    {
      "cell_type": "markdown",
      "source": [
        "# Conclusion and Questions:"
      ],
      "metadata": {
        "id": "g2eihvCByuUM"
      }
    },
    {
      "cell_type": "markdown",
      "source": [
        "Comparing the experimental measurements to the actual math, I was able to calculate the error rate for each version of the experiment.\n",
        "\n",
        "On the first experiment with two applied forces I had an error rate of .931%.\n",
        "\n",
        "And on the second experiment with three applied forces I had an error rate of 29.121%.\n",
        "\n",
        "This error rate is a slight cause for concern since it is so high. I feel like my group did have equilibrium on the center ring, so maybe the wiggle room for balance on three is higher than previously expected."
      ],
      "metadata": {
        "id": "Jg8TsweGy0Fc"
      }
    }
  ]
}