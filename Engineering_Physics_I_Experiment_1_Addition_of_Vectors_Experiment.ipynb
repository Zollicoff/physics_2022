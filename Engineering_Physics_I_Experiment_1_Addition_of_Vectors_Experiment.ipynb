{
  "nbformat": 4,
  "nbformat_minor": 0,
  "metadata": {
    "colab": {
      "provenance": [],
      "collapsed_sections": [],
      "authorship_tag": "ABX9TyMxfVXufcHP4oKn1rvY5ivN",
      "include_colab_link": true
    },
    "kernelspec": {
      "name": "python3",
      "display_name": "Python 3"
    },
    "language_info": {
      "name": "python"
    }
  },
  "cells": [
    {
      "cell_type": "markdown",
      "metadata": {
        "id": "view-in-github",
        "colab_type": "text"
      },
      "source": [
        "<a href=\"https://colab.research.google.com/github/Zollicoff/physics_fall_2022/blob/main/Engineering_Physics_I_Experiment_1_Addition_of_Vectors_Experiment.ipynb\" target=\"_parent\"><img src=\"https://colab.research.google.com/assets/colab-badge.svg\" alt=\"Open In Colab\"/></a>"
      ]
    },
    {
      "cell_type": "markdown",
      "source": [
        "# **Engineering Physics I - Experiment 1 - Addition of Vectors Experiment**"
      ],
      "metadata": {
        "id": "SAm0wx-rUa4_"
      }
    },
    {
      "cell_type": "markdown",
      "source": [
        "Report written by Zachary A. Hampton\n",
        "\n",
        "List of group members: Adolpho Magallanes, Brandon Swift, Ivan Cuevas, Oscar Lara Garcia\n",
        "\n",
        "Experiment performed on 09/07/2022\n",
        "\n",
        "No Current Due Date"
      ],
      "metadata": {
        "id": "S0Yb5v_x6Cu8"
      }
    },
    {
      "cell_type": "markdown",
      "source": [
        "# Setup"
      ],
      "metadata": {
        "id": "zYCowBrEB-QX"
      }
    },
    {
      "cell_type": "markdown",
      "source": [
        "First let us import Numpy for mathematical calculations and set options to suppress scientific notation.\n",
        "\n",
        "And let us define the gravity constant of 9.8 m/s as G."
      ],
      "metadata": {
        "id": "-kQKuS0J0E10"
      }
    },
    {
      "cell_type": "code",
      "execution_count": 1,
      "metadata": {
        "id": "BC5zZl25UYZy"
      },
      "outputs": [],
      "source": [
        "import numpy as np\n",
        "np.set_printoptions(suppress=True)\n",
        "G = 9.8"
      ]
    },
    {
      "cell_type": "markdown",
      "source": [
        "# Part 1 - Two Applied Forces"
      ],
      "metadata": {
        "id": "AxhOcKpXvwf6"
      }
    },
    {
      "cell_type": "markdown",
      "source": [
        "Let us define the two given vectors as Vector Array 1 and Vector Array 2\n",
        "\n",
        "Let us also define our Measurements of the Counter-Weight as Vector Array FE1:\n",
        "\n",
        "(Where[0] = Mass in kg, [1] = Gravity in m/s, [2] = Angle in degrees)"
      ],
      "metadata": {
        "id": "spGKFMyFUdWH"
      }
    },
    {
      "cell_type": "code",
      "source": [
        "vectorarray1 = np.array([0.10, G, 20])\n",
        "vectorarray2 = np.array([0.20, G, 90])\n",
        "vectorarrayfe1 = np.array([.25, G, 249])\n",
        "print('Vector Array 1: Mass = ', vectorarray1[0], 'kg, Gravity = ', vectorarray1[1], 'm/s, Angle = ', vectorarray1[2], 'degrees')\n",
        "print('Vector Array 2: Mass = ', vectorarray2[0], 'kg, Gravity = ', vectorarray2[1], 'm/s, Angle = ', vectorarray2[2], 'degrees')\n",
        "print('Vector Array FE1: Mass = ', vectorarrayfe1[0], 'kg, Gravity = ', vectorarrayfe1[1], 'm/s, Angle = ', vectorarrayfe1[2], 'degrees')"
      ],
      "metadata": {
        "colab": {
          "base_uri": "https://localhost:8080/"
        },
        "id": "hvIeeq8kUeYs",
        "outputId": "5d111091-0232-40f5-e32c-f0484b1c94e4"
      },
      "execution_count": 2,
      "outputs": [
        {
          "output_type": "stream",
          "name": "stdout",
          "text": [
            "Vector Array 1: Mass =  0.1 kg, Gravity =  9.8 m/s, Angle =  20.0 degrees\n",
            "Vector Array 2: Mass =  0.2 kg, Gravity =  9.8 m/s, Angle =  90.0 degrees\n",
            "Vector Array FE1: Mass =  0.25 kg, Gravity =  9.8 m/s, Angle =  249.0 degrees\n"
          ]
        }
      ]
    },
    {
      "cell_type": "markdown",
      "source": [
        "Let us define FR1 as the opposite angle of FE1 by subtracting 180 from FE1:"
      ],
      "metadata": {
        "id": "nLo7O0K70yJ9"
      }
    },
    {
      "cell_type": "code",
      "source": [
        "fr1 = int(vectorarrayfe1[2]) - 180\n",
        "print('The result is ' + str(fr1) + ' degrees.')"
      ],
      "metadata": {
        "colab": {
          "base_uri": "https://localhost:8080/"
        },
        "id": "STYdbwKJ04e-",
        "outputId": "9113f2ab-5fe3-4ff5-ff05-c204e36bab74"
      },
      "execution_count": 3,
      "outputs": [
        {
          "output_type": "stream",
          "name": "stdout",
          "text": [
            "The result is 69 degrees.\n"
          ]
        }
      ]
    },
    {
      "cell_type": "markdown",
      "source": [
        "Calculate force of Vector Array 1 as f1 and Vector Array 2 as f2, as well as Vector Array FE1 / FR1 *in* Newtons by multiplying Mass and Gravity:"
      ],
      "metadata": {
        "id": "Q3Wq5v3HUgg2"
      }
    },
    {
      "cell_type": "code",
      "source": [
        "f1 = vectorarray1[0] * vectorarray1[1]\n",
        "f2 = vectorarray2[0] * vectorarray2[1]\n",
        "fe1 = vectorarrayfe1[0] * vectorarrayfe1[1]\n",
        "print('Force of Vector Array 1 =', f1, 'Newtons')\n",
        "print('Force of Vector Array 2 =', f2, 'Newtons')\n",
        "print('Force of Vector Array FE1 / FR1 =', fe1, 'Newtons')"
      ],
      "metadata": {
        "colab": {
          "base_uri": "https://localhost:8080/"
        },
        "id": "T7oZHJ6PUomv",
        "outputId": "eeb563f1-a5b9-41ba-a8cc-daa097514857"
      },
      "execution_count": 4,
      "outputs": [
        {
          "output_type": "stream",
          "name": "stdout",
          "text": [
            "Force of Vector Array 1 = 0.9800000000000001 Newtons\n",
            "Force of Vector Array 2 = 1.9600000000000002 Newtons\n",
            "Force of Vector Array FE1 / FR1 = 2.45 Newtons\n"
          ]
        }
      ]
    },
    {
      "cell_type": "markdown",
      "source": [
        "Calculate FX1 / FX2 using cos and FY1 / FY2 using sin:"
      ],
      "metadata": {
        "id": "bxGr_i5BUp2O"
      }
    },
    {
      "cell_type": "code",
      "source": [
        "fx1 = f1 * np.cos(np.radians(vectorarray1[2]))\n",
        "fy1 = f1 * np.sin(np.radians(vectorarray1[2]))\n",
        "fx2 = f2 * np.allclose(0, np.cos((vectorarray2[2])), 1e-5, 1e-8)\n",
        "fy2 = f2 * np.sin(np.radians(vectorarray2[2]))\n",
        "print('FX1 =', fx1)\n",
        "print('FY1 =', fy1)\n",
        "print('FX2 =', fx2)\n",
        "print('FY2 =', fy2)"
      ],
      "metadata": {
        "colab": {
          "base_uri": "https://localhost:8080/"
        },
        "id": "-VfGmcOoUrC1",
        "outputId": "f096e5dc-e8d5-44b5-f71f-d1d5bae5319f"
      },
      "execution_count": 5,
      "outputs": [
        {
          "output_type": "stream",
          "name": "stdout",
          "text": [
            "FX1 = 0.9208987683701904\n",
            "FY1 = 0.3351797404591554\n",
            "FX2 = 0.0\n",
            "FY2 = 1.9600000000000002\n"
          ]
        }
      ]
    },
    {
      "cell_type": "markdown",
      "source": [
        "Define A by adding FX1 and FX2, and B by adding FY1 and FY2 to use in Pythagorean Theorem:"
      ],
      "metadata": {
        "id": "uyKKbKxUcgPJ"
      }
    },
    {
      "cell_type": "code",
      "source": [
        "a1 = fx1 + fx2\n",
        "b1 = fy1 + fy2\n",
        "print('A =', a1)\n",
        "print('B =', b1)"
      ],
      "metadata": {
        "colab": {
          "base_uri": "https://localhost:8080/"
        },
        "id": "dt57J88BfoBG",
        "outputId": "634ed767-a4f7-4209-f3a6-2fe961f6b773"
      },
      "execution_count": 6,
      "outputs": [
        {
          "output_type": "stream",
          "name": "stdout",
          "text": [
            "A = 0.9208987683701904\n",
            "B = 2.2951797404591554\n"
          ]
        }
      ]
    },
    {
      "cell_type": "markdown",
      "source": [
        "Use Pythagorean Theorem pythan $a^2 + b^2 = c^2$ to find C:\n",
        "\n"
      ],
      "metadata": {
        "id": "bXT9C0Odx4H7"
      }
    },
    {
      "cell_type": "code",
      "source": [
        "c1 = np.hypot(a1, b1)\n",
        "print('C^2 = ' + str(a1) + '^2 ' + str(b1) + '^2')\n",
        "print('C = ', c1)"
      ],
      "metadata": {
        "colab": {
          "base_uri": "https://localhost:8080/"
        },
        "id": "-hFBQlvLyHuk",
        "outputId": "e41b5af7-d081-433f-c4dd-6d2830b48e86"
      },
      "execution_count": 7,
      "outputs": [
        {
          "output_type": "stream",
          "name": "stdout",
          "text": [
            "C^2 = 0.9208987683701904^2 2.2951797404591554^2\n",
            "C =  2.473035499664307\n"
          ]
        }
      ]
    },
    {
      "cell_type": "markdown",
      "source": [
        "Find the Error Rate Percentage with $100(FE1-C)/C$:"
      ],
      "metadata": {
        "id": "7LFdv0U23VUs"
      }
    },
    {
      "cell_type": "code",
      "source": [
        "error1 = (fe1 - c1) / c1\n",
        "errorpercent1 = error1 * 100\n",
        "print(error1)\n",
        "print('The Error Rate is', errorpercent1, '%')\n"
      ],
      "metadata": {
        "colab": {
          "base_uri": "https://localhost:8080/"
        },
        "id": "otg1c0zY3tLF",
        "outputId": "d3810eb5-4195-4262-d598-829086b2e884"
      },
      "execution_count": 8,
      "outputs": [
        {
          "output_type": "stream",
          "name": "stdout",
          "text": [
            "-0.009314665991423828\n",
            "The Error Rate is -0.9314665991423828 %\n"
          ]
        }
      ]
    },
    {
      "cell_type": "markdown",
      "source": [],
      "metadata": {
        "id": "ess9fJz4wYzG"
      }
    },
    {
      "cell_type": "markdown",
      "source": [
        "# Part 2 - Three Applied Forces"
      ],
      "metadata": {
        "id": "-yGgFw_17PZ8"
      }
    },
    {
      "cell_type": "markdown",
      "source": [
        "Let us define the Three given vectors as Vector Array 3, Vector Array 4, and Vector Array 5.\n",
        "\n",
        "Let us also define our Measurements of the Counter-Weight as Vector Array FE2:\n",
        "\n",
        "(Where[0] = Mass in kg, [1] = Gravity in m/s, [2] = Angle in degrees)"
      ],
      "metadata": {
        "id": "VPo_H1lJ98sG"
      }
    },
    {
      "cell_type": "code",
      "source": [
        "vectorarray3 = np.array([0.15, G, 30])\n",
        "vectorarray4 = np.array([0.20, G, 100])\n",
        "vectorarray5 = np.array([0.10, G, 145])\n",
        "vectorarrayfe2 = np.array([0.32, G, 268])\n",
        "print('Vector Array 3: Mass = ', vectorarray3[0], 'kg, Gravity = ', vectorarray3[1], 'm/s, Angle = ', vectorarray3[2], 'degrees')\n",
        "print('Vector Array 4: Mass = ', vectorarray4[0], 'kg, Gravity = ', vectorarray4[1], 'm/s, Angle = ', vectorarray4[2], 'degrees')\n",
        "print('Vector Array 5: Mass = ', vectorarray5[0], 'kg, Gravity = ', vectorarray5[1], 'm/s, Angle = ', vectorarray5[2], 'degrees')\n",
        "print('Vector Array FE2: Mass = ', vectorarrayfe2[0], 'kg, Gravity = ', vectorarrayfe2[1], 'm/s, Angle = ', vectorarrayfe2[2], 'degrees')"
      ],
      "metadata": {
        "colab": {
          "base_uri": "https://localhost:8080/"
        },
        "id": "jss09fbT8NhJ",
        "outputId": "24d33e14-7610-49d3-e572-f3560eb1c758"
      },
      "execution_count": 9,
      "outputs": [
        {
          "output_type": "stream",
          "name": "stdout",
          "text": [
            "Vector Array 3: Mass =  0.15 kg, Gravity =  9.8 m/s, Angle =  30.0 degrees\n",
            "Vector Array 4: Mass =  0.2 kg, Gravity =  9.8 m/s, Angle =  100.0 degrees\n",
            "Vector Array 5: Mass =  0.1 kg, Gravity =  9.8 m/s, Angle =  145.0 degrees\n",
            "Vector Array FE2: Mass =  0.32 kg, Gravity =  9.8 m/s, Angle =  268.0 degrees\n"
          ]
        }
      ]
    },
    {
      "cell_type": "markdown",
      "source": [
        "Let us define FR2 as the opposite angle of FE2 by subtracting 180 from FE2:"
      ],
      "metadata": {
        "id": "KZMLh5gLoYnu"
      }
    },
    {
      "cell_type": "code",
      "source": [
        "fr2 = int(vectorarrayfe2[2]) - 180\n",
        "print('The result is ' + str(fr2) + ' degrees.')"
      ],
      "metadata": {
        "colab": {
          "base_uri": "https://localhost:8080/"
        },
        "id": "PrCwAqcZodc6",
        "outputId": "0d5d683a-1c1e-4174-d2cb-abad828468d6"
      },
      "execution_count": 10,
      "outputs": [
        {
          "output_type": "stream",
          "name": "stdout",
          "text": [
            "The result is 88 degrees.\n"
          ]
        }
      ]
    },
    {
      "cell_type": "markdown",
      "source": [
        "Calculate force of Vector Array 3 as f3, Vector Array 4 as f4, Vector Array 5 as f5, as well as Vector Array FE2 / FR2 in Newtons by multiplying Mass and Gravity:"
      ],
      "metadata": {
        "id": "7ma4W5oipDSZ"
      }
    },
    {
      "cell_type": "code",
      "source": [
        "f3 = vectorarray3[0] * vectorarray3[1]\n",
        "f4 = vectorarray4[0] * vectorarray4[1]\n",
        "f5 = vectorarray5[0] * vectorarray5[1]\n",
        "fe2 = vectorarrayfe2[0] * vectorarrayfe2[1]\n",
        "print('Force of Vector Array 3 =', f3, 'Newtons')\n",
        "print('Force of Vector Array 4 =', f4, 'Newtons')\n",
        "print('Force of Vector Array 5 =', f5, 'Newtons')\n",
        "print('Force of Vector Array FE2 / FR2 =', fe2, 'Newtons')"
      ],
      "metadata": {
        "colab": {
          "base_uri": "https://localhost:8080/"
        },
        "id": "oIQQeiZgpgtc",
        "outputId": "54195efc-53d8-4c66-830f-b45d8026d695"
      },
      "execution_count": 11,
      "outputs": [
        {
          "output_type": "stream",
          "name": "stdout",
          "text": [
            "Force of Vector Array 3 = 1.47 Newtons\n",
            "Force of Vector Array 4 = 1.9600000000000002 Newtons\n",
            "Force of Vector Array 5 = 0.9800000000000001 Newtons\n",
            "Force of Vector Array FE2 / FR2 = 3.136 Newtons\n"
          ]
        }
      ]
    },
    {
      "cell_type": "markdown",
      "source": [
        "Calculate FX3 / FX4 / FX5 using cos and FY3 / FY4 / FY5 using sin:"
      ],
      "metadata": {
        "id": "mOuuQeO2rje2"
      }
    },
    {
      "cell_type": "code",
      "source": [
        "fx3 = f3 * np.cos(np.radians(vectorarray3[2]))\n",
        "fy3 = f3 * np.sin(np.radians(vectorarray3[2]))\n",
        "fx4 = f4 * np.cos(np.radians(vectorarray4[2]))\n",
        "fy4 = f4 * np.sin(np.radians(vectorarray4[2]))\n",
        "fx5 = f5 * np.cos(np.radians(vectorarray5[2]))\n",
        "fy5 = f5 * np.sin(np.radians(vectorarray5[2]))\n",
        "print('FX3 =', fx3)\n",
        "print('FY3 =', fy3)\n",
        "print('FX4 =', fx4)\n",
        "print('FY4 =', fy4)\n",
        "print('FX5 =', fx5)\n",
        "print('FY5 =', fy5)"
      ],
      "metadata": {
        "colab": {
          "base_uri": "https://localhost:8080/"
        },
        "id": "YzF430RDrqhs",
        "outputId": "082e352e-171b-465c-f009-7ef6e13faff9"
      },
      "execution_count": 12,
      "outputs": [
        {
          "output_type": "stream",
          "name": "stdout",
          "text": [
            "FX3 = 1.273057343563125\n",
            "FY3 = 0.7349999999999999\n",
            "FX4 = -0.3403504282271834\n",
            "FY4 = 1.930223195903928\n",
            "FX5 = -0.8027690034032121\n",
            "FY5 = 0.5621049076240251\n"
          ]
        }
      ]
    },
    {
      "cell_type": "markdown",
      "source": [
        "Define A by adding FX3, FX4, and FX5, and B by adding FY3, FY4, and FY5 to use in Pythagorean Theorem:"
      ],
      "metadata": {
        "id": "wbIGtU80u7rs"
      }
    },
    {
      "cell_type": "code",
      "source": [
        "a2 = fx3 + fx4 + fx5 \n",
        "b2 = fy4 + fy4 + fy5\n",
        "print('A =', a2)\n",
        "print('B =', b2)"
      ],
      "metadata": {
        "colab": {
          "base_uri": "https://localhost:8080/"
        },
        "id": "t74t-38TvGpR",
        "outputId": "0b131c24-0c77-445c-b83e-0a5d21e400c9"
      },
      "execution_count": 13,
      "outputs": [
        {
          "output_type": "stream",
          "name": "stdout",
          "text": [
            "A = 0.1299379119327294\n",
            "B = 4.422551299431881\n"
          ]
        }
      ]
    },
    {
      "cell_type": "markdown",
      "source": [
        "Use Pythagorean Theorem $a^2 + b^2 = c^2$ to find C:"
      ],
      "metadata": {
        "id": "fzYa0EZ4wDRA"
      }
    },
    {
      "cell_type": "code",
      "source": [
        "c2 = np.hypot(a2, b2)\n",
        "print('C^2 = ' + str(a2) + '^2 ' + str(b2) + '^2')\n",
        "print('C = ', c2)"
      ],
      "metadata": {
        "colab": {
          "base_uri": "https://localhost:8080/"
        },
        "id": "aHhJbra_wHaa",
        "outputId": "5cde3eaa-f638-4d36-9881-260692732a33"
      },
      "execution_count": 14,
      "outputs": [
        {
          "output_type": "stream",
          "name": "stdout",
          "text": [
            "C^2 = 0.1299379119327294^2 4.422551299431881^2\n",
            "C =  4.424459724877611\n"
          ]
        }
      ]
    },
    {
      "cell_type": "markdown",
      "source": [
        "Find the Error Rate Percentage with $100(FE1-C)/C$:"
      ],
      "metadata": {
        "id": "R9X7eH7vw-8V"
      }
    },
    {
      "cell_type": "code",
      "source": [
        "error2 = (fe2 - c2) / c2\n",
        "errorpercent2 = error2 * 100\n",
        "print(error2)\n",
        "print('The Error Rate is', errorpercent2, '%')\n"
      ],
      "metadata": {
        "colab": {
          "base_uri": "https://localhost:8080/"
        },
        "id": "6URu9QDWxEMr",
        "outputId": "aea28f4d-4464-4bfa-8d8e-32e9c5cb3508"
      },
      "execution_count": 15,
      "outputs": [
        {
          "output_type": "stream",
          "name": "stdout",
          "text": [
            "-0.29121289490622543\n",
            "The Error Rate is -29.121289490622544 %\n"
          ]
        }
      ]
    },
    {
      "cell_type": "markdown",
      "source": [
        "# Conclusion and Questions:"
      ],
      "metadata": {
        "id": "g2eihvCByuUM"
      }
    },
    {
      "cell_type": "markdown",
      "source": [
        "Comparing the experimental measurements to the actual math, I was able to calculate the error rate for each version of the experiment.\n",
        "\n",
        "On the first experiment with two applied forces I had an error rate of .931%.\n",
        "\n",
        "And on the second experiment with three applied forces I had an error rate of 29.121%.\n",
        "\n",
        "This error rate is a slight cause for concern since it is so high. I feel like my group did have equilibrium on the center ring, so maybe the wiggle room for balance on three is higher than previously expected."
      ],
      "metadata": {
        "id": "Jg8TsweGy0Fc"
      }
    }
  ]
}